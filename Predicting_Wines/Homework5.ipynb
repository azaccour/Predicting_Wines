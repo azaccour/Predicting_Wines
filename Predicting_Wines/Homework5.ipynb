{
 "cells": [
  {
   "cell_type": "markdown",
   "id": "eed1f45c",
   "metadata": {},
   "source": [
    "# Homework 5"
   ]
  },
  {
   "cell_type": "code",
   "execution_count": 1,
   "id": "2c9fe984",
   "metadata": {},
   "outputs": [],
   "source": [
    "# Import the necessary packages from sci-kit learn\n",
    "import pandas as pd\n",
    "import numpy as np\n",
    "import matplotlib.pyplot as plt\n",
    "from scipy.cluster import vq # Specifically uesful for K-means clustering\n",
    "from sklearn import cluster  # Clustering algorithms such as K-means and agglomerative\n",
    "from sklearn.metrics import silhouette_samples, silhouette_score\n",
    "from sklearn import datasets\n",
    "from sklearn.decomposition import PCA\n",
    "from sklearn.manifold import TSNE\n",
    "from sklearn.cluster import KMeans\n",
    "from sklearn.cluster import MiniBatchKMeans \n",
    "from sklearn.metrics.pairwise import pairwise_distances_argmin\n",
    "from sklearn.manifold import MDS #Import the multidimensional scaling module\n",
    "from scipy.spatial.distance import squareform #Import squareform, which creates a symmetric matrix from a vector\n",
    "import time\n",
    "import math\n",
    "\n",
    "from scipy import stats"
   ]
  },
  {
   "cell_type": "code",
   "execution_count": 2,
   "id": "c58dc7aa",
   "metadata": {},
   "outputs": [
    {
     "name": "stdout",
     "output_type": "stream",
     "text": [
      "(178, 13)\n"
     ]
    }
   ],
   "source": [
    "data = pd.read_csv('wines.csv')\n",
    "print(data.shape)"
   ]
  },
  {
   "cell_type": "code",
   "execution_count": 8,
   "id": "319e3973",
   "metadata": {},
   "outputs": [
    {
     "data": {
      "text/plain": [
       "array([[<AxesSubplot:xlabel='Alcohol', ylabel='Alcohol'>,\n",
       "        <AxesSubplot:xlabel='Malic_Acid', ylabel='Alcohol'>,\n",
       "        <AxesSubplot:xlabel='Ash', ylabel='Alcohol'>,\n",
       "        <AxesSubplot:xlabel='Ash_Alkalinity', ylabel='Alcohol'>,\n",
       "        <AxesSubplot:xlabel='Magnesium', ylabel='Alcohol'>,\n",
       "        <AxesSubplot:xlabel='Total_Phenols', ylabel='Alcohol'>,\n",
       "        <AxesSubplot:xlabel='Flavonoids', ylabel='Alcohol'>,\n",
       "        <AxesSubplot:xlabel='Stilbenes', ylabel='Alcohol'>,\n",
       "        <AxesSubplot:xlabel='Proanthocyanins', ylabel='Alcohol'>,\n",
       "        <AxesSubplot:xlabel='Color_Intensity', ylabel='Alcohol'>,\n",
       "        <AxesSubplot:xlabel='Hue', ylabel='Alcohol'>,\n",
       "        <AxesSubplot:xlabel='OD280', ylabel='Alcohol'>,\n",
       "        <AxesSubplot:xlabel='Proline', ylabel='Alcohol'>],\n",
       "       [<AxesSubplot:xlabel='Alcohol', ylabel='Malic_Acid'>,\n",
       "        <AxesSubplot:xlabel='Malic_Acid', ylabel='Malic_Acid'>,\n",
       "        <AxesSubplot:xlabel='Ash', ylabel='Malic_Acid'>,\n",
       "        <AxesSubplot:xlabel='Ash_Alkalinity', ylabel='Malic_Acid'>,\n",
       "        <AxesSubplot:xlabel='Magnesium', ylabel='Malic_Acid'>,\n",
       "        <AxesSubplot:xlabel='Total_Phenols', ylabel='Malic_Acid'>,\n",
       "        <AxesSubplot:xlabel='Flavonoids', ylabel='Malic_Acid'>,\n",
       "        <AxesSubplot:xlabel='Stilbenes', ylabel='Malic_Acid'>,\n",
       "        <AxesSubplot:xlabel='Proanthocyanins', ylabel='Malic_Acid'>,\n",
       "        <AxesSubplot:xlabel='Color_Intensity', ylabel='Malic_Acid'>,\n",
       "        <AxesSubplot:xlabel='Hue', ylabel='Malic_Acid'>,\n",
       "        <AxesSubplot:xlabel='OD280', ylabel='Malic_Acid'>,\n",
       "        <AxesSubplot:xlabel='Proline', ylabel='Malic_Acid'>],\n",
       "       [<AxesSubplot:xlabel='Alcohol', ylabel='Ash'>,\n",
       "        <AxesSubplot:xlabel='Malic_Acid', ylabel='Ash'>,\n",
       "        <AxesSubplot:xlabel='Ash', ylabel='Ash'>,\n",
       "        <AxesSubplot:xlabel='Ash_Alkalinity', ylabel='Ash'>,\n",
       "        <AxesSubplot:xlabel='Magnesium', ylabel='Ash'>,\n",
       "        <AxesSubplot:xlabel='Total_Phenols', ylabel='Ash'>,\n",
       "        <AxesSubplot:xlabel='Flavonoids', ylabel='Ash'>,\n",
       "        <AxesSubplot:xlabel='Stilbenes', ylabel='Ash'>,\n",
       "        <AxesSubplot:xlabel='Proanthocyanins', ylabel='Ash'>,\n",
       "        <AxesSubplot:xlabel='Color_Intensity', ylabel='Ash'>,\n",
       "        <AxesSubplot:xlabel='Hue', ylabel='Ash'>,\n",
       "        <AxesSubplot:xlabel='OD280', ylabel='Ash'>,\n",
       "        <AxesSubplot:xlabel='Proline', ylabel='Ash'>],\n",
       "       [<AxesSubplot:xlabel='Alcohol', ylabel='Ash_Alkalinity'>,\n",
       "        <AxesSubplot:xlabel='Malic_Acid', ylabel='Ash_Alkalinity'>,\n",
       "        <AxesSubplot:xlabel='Ash', ylabel='Ash_Alkalinity'>,\n",
       "        <AxesSubplot:xlabel='Ash_Alkalinity', ylabel='Ash_Alkalinity'>,\n",
       "        <AxesSubplot:xlabel='Magnesium', ylabel='Ash_Alkalinity'>,\n",
       "        <AxesSubplot:xlabel='Total_Phenols', ylabel='Ash_Alkalinity'>,\n",
       "        <AxesSubplot:xlabel='Flavonoids', ylabel='Ash_Alkalinity'>,\n",
       "        <AxesSubplot:xlabel='Stilbenes', ylabel='Ash_Alkalinity'>,\n",
       "        <AxesSubplot:xlabel='Proanthocyanins', ylabel='Ash_Alkalinity'>,\n",
       "        <AxesSubplot:xlabel='Color_Intensity', ylabel='Ash_Alkalinity'>,\n",
       "        <AxesSubplot:xlabel='Hue', ylabel='Ash_Alkalinity'>,\n",
       "        <AxesSubplot:xlabel='OD280', ylabel='Ash_Alkalinity'>,\n",
       "        <AxesSubplot:xlabel='Proline', ylabel='Ash_Alkalinity'>],\n",
       "       [<AxesSubplot:xlabel='Alcohol', ylabel='Magnesium'>,\n",
       "        <AxesSubplot:xlabel='Malic_Acid', ylabel='Magnesium'>,\n",
       "        <AxesSubplot:xlabel='Ash', ylabel='Magnesium'>,\n",
       "        <AxesSubplot:xlabel='Ash_Alkalinity', ylabel='Magnesium'>,\n",
       "        <AxesSubplot:xlabel='Magnesium', ylabel='Magnesium'>,\n",
       "        <AxesSubplot:xlabel='Total_Phenols', ylabel='Magnesium'>,\n",
       "        <AxesSubplot:xlabel='Flavonoids', ylabel='Magnesium'>,\n",
       "        <AxesSubplot:xlabel='Stilbenes', ylabel='Magnesium'>,\n",
       "        <AxesSubplot:xlabel='Proanthocyanins', ylabel='Magnesium'>,\n",
       "        <AxesSubplot:xlabel='Color_Intensity', ylabel='Magnesium'>,\n",
       "        <AxesSubplot:xlabel='Hue', ylabel='Magnesium'>,\n",
       "        <AxesSubplot:xlabel='OD280', ylabel='Magnesium'>,\n",
       "        <AxesSubplot:xlabel='Proline', ylabel='Magnesium'>],\n",
       "       [<AxesSubplot:xlabel='Alcohol', ylabel='Total_Phenols'>,\n",
       "        <AxesSubplot:xlabel='Malic_Acid', ylabel='Total_Phenols'>,\n",
       "        <AxesSubplot:xlabel='Ash', ylabel='Total_Phenols'>,\n",
       "        <AxesSubplot:xlabel='Ash_Alkalinity', ylabel='Total_Phenols'>,\n",
       "        <AxesSubplot:xlabel='Magnesium', ylabel='Total_Phenols'>,\n",
       "        <AxesSubplot:xlabel='Total_Phenols', ylabel='Total_Phenols'>,\n",
       "        <AxesSubplot:xlabel='Flavonoids', ylabel='Total_Phenols'>,\n",
       "        <AxesSubplot:xlabel='Stilbenes', ylabel='Total_Phenols'>,\n",
       "        <AxesSubplot:xlabel='Proanthocyanins', ylabel='Total_Phenols'>,\n",
       "        <AxesSubplot:xlabel='Color_Intensity', ylabel='Total_Phenols'>,\n",
       "        <AxesSubplot:xlabel='Hue', ylabel='Total_Phenols'>,\n",
       "        <AxesSubplot:xlabel='OD280', ylabel='Total_Phenols'>,\n",
       "        <AxesSubplot:xlabel='Proline', ylabel='Total_Phenols'>],\n",
       "       [<AxesSubplot:xlabel='Alcohol', ylabel='Flavonoids'>,\n",
       "        <AxesSubplot:xlabel='Malic_Acid', ylabel='Flavonoids'>,\n",
       "        <AxesSubplot:xlabel='Ash', ylabel='Flavonoids'>,\n",
       "        <AxesSubplot:xlabel='Ash_Alkalinity', ylabel='Flavonoids'>,\n",
       "        <AxesSubplot:xlabel='Magnesium', ylabel='Flavonoids'>,\n",
       "        <AxesSubplot:xlabel='Total_Phenols', ylabel='Flavonoids'>,\n",
       "        <AxesSubplot:xlabel='Flavonoids', ylabel='Flavonoids'>,\n",
       "        <AxesSubplot:xlabel='Stilbenes', ylabel='Flavonoids'>,\n",
       "        <AxesSubplot:xlabel='Proanthocyanins', ylabel='Flavonoids'>,\n",
       "        <AxesSubplot:xlabel='Color_Intensity', ylabel='Flavonoids'>,\n",
       "        <AxesSubplot:xlabel='Hue', ylabel='Flavonoids'>,\n",
       "        <AxesSubplot:xlabel='OD280', ylabel='Flavonoids'>,\n",
       "        <AxesSubplot:xlabel='Proline', ylabel='Flavonoids'>],\n",
       "       [<AxesSubplot:xlabel='Alcohol', ylabel='Stilbenes'>,\n",
       "        <AxesSubplot:xlabel='Malic_Acid', ylabel='Stilbenes'>,\n",
       "        <AxesSubplot:xlabel='Ash', ylabel='Stilbenes'>,\n",
       "        <AxesSubplot:xlabel='Ash_Alkalinity', ylabel='Stilbenes'>,\n",
       "        <AxesSubplot:xlabel='Magnesium', ylabel='Stilbenes'>,\n",
       "        <AxesSubplot:xlabel='Total_Phenols', ylabel='Stilbenes'>,\n",
       "        <AxesSubplot:xlabel='Flavonoids', ylabel='Stilbenes'>,\n",
       "        <AxesSubplot:xlabel='Stilbenes', ylabel='Stilbenes'>,\n",
       "        <AxesSubplot:xlabel='Proanthocyanins', ylabel='Stilbenes'>,\n",
       "        <AxesSubplot:xlabel='Color_Intensity', ylabel='Stilbenes'>,\n",
       "        <AxesSubplot:xlabel='Hue', ylabel='Stilbenes'>,\n",
       "        <AxesSubplot:xlabel='OD280', ylabel='Stilbenes'>,\n",
       "        <AxesSubplot:xlabel='Proline', ylabel='Stilbenes'>],\n",
       "       [<AxesSubplot:xlabel='Alcohol', ylabel='Proanthocyanins'>,\n",
       "        <AxesSubplot:xlabel='Malic_Acid', ylabel='Proanthocyanins'>,\n",
       "        <AxesSubplot:xlabel='Ash', ylabel='Proanthocyanins'>,\n",
       "        <AxesSubplot:xlabel='Ash_Alkalinity', ylabel='Proanthocyanins'>,\n",
       "        <AxesSubplot:xlabel='Magnesium', ylabel='Proanthocyanins'>,\n",
       "        <AxesSubplot:xlabel='Total_Phenols', ylabel='Proanthocyanins'>,\n",
       "        <AxesSubplot:xlabel='Flavonoids', ylabel='Proanthocyanins'>,\n",
       "        <AxesSubplot:xlabel='Stilbenes', ylabel='Proanthocyanins'>,\n",
       "        <AxesSubplot:xlabel='Proanthocyanins', ylabel='Proanthocyanins'>,\n",
       "        <AxesSubplot:xlabel='Color_Intensity', ylabel='Proanthocyanins'>,\n",
       "        <AxesSubplot:xlabel='Hue', ylabel='Proanthocyanins'>,\n",
       "        <AxesSubplot:xlabel='OD280', ylabel='Proanthocyanins'>,\n",
       "        <AxesSubplot:xlabel='Proline', ylabel='Proanthocyanins'>],\n",
       "       [<AxesSubplot:xlabel='Alcohol', ylabel='Color_Intensity'>,\n",
       "        <AxesSubplot:xlabel='Malic_Acid', ylabel='Color_Intensity'>,\n",
       "        <AxesSubplot:xlabel='Ash', ylabel='Color_Intensity'>,\n",
       "        <AxesSubplot:xlabel='Ash_Alkalinity', ylabel='Color_Intensity'>,\n",
       "        <AxesSubplot:xlabel='Magnesium', ylabel='Color_Intensity'>,\n",
       "        <AxesSubplot:xlabel='Total_Phenols', ylabel='Color_Intensity'>,\n",
       "        <AxesSubplot:xlabel='Flavonoids', ylabel='Color_Intensity'>,\n",
       "        <AxesSubplot:xlabel='Stilbenes', ylabel='Color_Intensity'>,\n",
       "        <AxesSubplot:xlabel='Proanthocyanins', ylabel='Color_Intensity'>,\n",
       "        <AxesSubplot:xlabel='Color_Intensity', ylabel='Color_Intensity'>,\n",
       "        <AxesSubplot:xlabel='Hue', ylabel='Color_Intensity'>,\n",
       "        <AxesSubplot:xlabel='OD280', ylabel='Color_Intensity'>,\n",
       "        <AxesSubplot:xlabel='Proline', ylabel='Color_Intensity'>],\n",
       "       [<AxesSubplot:xlabel='Alcohol', ylabel='Hue'>,\n",
       "        <AxesSubplot:xlabel='Malic_Acid', ylabel='Hue'>,\n",
       "        <AxesSubplot:xlabel='Ash', ylabel='Hue'>,\n",
       "        <AxesSubplot:xlabel='Ash_Alkalinity', ylabel='Hue'>,\n",
       "        <AxesSubplot:xlabel='Magnesium', ylabel='Hue'>,\n",
       "        <AxesSubplot:xlabel='Total_Phenols', ylabel='Hue'>,\n",
       "        <AxesSubplot:xlabel='Flavonoids', ylabel='Hue'>,\n",
       "        <AxesSubplot:xlabel='Stilbenes', ylabel='Hue'>,\n",
       "        <AxesSubplot:xlabel='Proanthocyanins', ylabel='Hue'>,\n",
       "        <AxesSubplot:xlabel='Color_Intensity', ylabel='Hue'>,\n",
       "        <AxesSubplot:xlabel='Hue', ylabel='Hue'>,\n",
       "        <AxesSubplot:xlabel='OD280', ylabel='Hue'>,\n",
       "        <AxesSubplot:xlabel='Proline', ylabel='Hue'>],\n",
       "       [<AxesSubplot:xlabel='Alcohol', ylabel='OD280'>,\n",
       "        <AxesSubplot:xlabel='Malic_Acid', ylabel='OD280'>,\n",
       "        <AxesSubplot:xlabel='Ash', ylabel='OD280'>,\n",
       "        <AxesSubplot:xlabel='Ash_Alkalinity', ylabel='OD280'>,\n",
       "        <AxesSubplot:xlabel='Magnesium', ylabel='OD280'>,\n",
       "        <AxesSubplot:xlabel='Total_Phenols', ylabel='OD280'>,\n",
       "        <AxesSubplot:xlabel='Flavonoids', ylabel='OD280'>,\n",
       "        <AxesSubplot:xlabel='Stilbenes', ylabel='OD280'>,\n",
       "        <AxesSubplot:xlabel='Proanthocyanins', ylabel='OD280'>,\n",
       "        <AxesSubplot:xlabel='Color_Intensity', ylabel='OD280'>,\n",
       "        <AxesSubplot:xlabel='Hue', ylabel='OD280'>,\n",
       "        <AxesSubplot:xlabel='OD280', ylabel='OD280'>,\n",
       "        <AxesSubplot:xlabel='Proline', ylabel='OD280'>],\n",
       "       [<AxesSubplot:xlabel='Alcohol', ylabel='Proline'>,\n",
       "        <AxesSubplot:xlabel='Malic_Acid', ylabel='Proline'>,\n",
       "        <AxesSubplot:xlabel='Ash', ylabel='Proline'>,\n",
       "        <AxesSubplot:xlabel='Ash_Alkalinity', ylabel='Proline'>,\n",
       "        <AxesSubplot:xlabel='Magnesium', ylabel='Proline'>,\n",
       "        <AxesSubplot:xlabel='Total_Phenols', ylabel='Proline'>,\n",
       "        <AxesSubplot:xlabel='Flavonoids', ylabel='Proline'>,\n",
       "        <AxesSubplot:xlabel='Stilbenes', ylabel='Proline'>,\n",
       "        <AxesSubplot:xlabel='Proanthocyanins', ylabel='Proline'>,\n",
       "        <AxesSubplot:xlabel='Color_Intensity', ylabel='Proline'>,\n",
       "        <AxesSubplot:xlabel='Hue', ylabel='Proline'>,\n",
       "        <AxesSubplot:xlabel='OD280', ylabel='Proline'>,\n",
       "        <AxesSubplot:xlabel='Proline', ylabel='Proline'>]], dtype=object)"
      ]
     },
     "execution_count": 8,
     "metadata": {},
     "output_type": "execute_result"
    },
    {
     "data": {
      "image/png": "[encoded data removed]",
      "text/plain": [
       "<Figure size 432x288 with 169 Axes>"
      ]
     },
     "metadata": {
      "needs_background": "light"
     },
     "output_type": "display_data"
    }
   ],
   "source": [
    "data = pd.DataFrame(data)\n",
    "pd.plotting.scatter_matrix(data, s = 10, c= 'red')"
   ]
  },
  {
   "cell_type": "code",
   "execution_count": null,
   "id": "3c23cec1",
   "metadata": {},
   "outputs": [],
   "source": [
    "data"
   ]
  },
  {
   "cell_type": "code",
   "execution_count": null,
   "id": "52dfddc7",
   "metadata": {},
   "outputs": [],
   "source": [
    "data.corr()"
   ]
  },
  {
   "cell_type": "code",
   "execution_count": null,
   "id": "b9c7966b",
   "metadata": {},
   "outputs": [],
   "source": [
    "def normalization(d):\n",
    "    dmax = max(d)\n",
    "    dmin = min(d)\n",
    "    return lambda x: (x-dmin)/(dmax-dmin)\n",
    "to_normalize = [\"Alcohol\", \"Malic_Acid\", \"Ash\",\"Ash_Alkalinity\", \"Magnesium\",\"Total_Phenols\",\"Flavonoids\",\"Stilbenes\",\"Proanthocyanins\",\"Color_Intensity\",\"Hue\",\"OD280\",\"Proline\"]\n",
    "\n",
    "for f in to_normalize:\n",
    "    data[f] = data[f].apply(normalization(data[f]))\n",
    "    \n"
   ]
  },
  {
   "cell_type": "code",
   "execution_count": null,
   "id": "515be274",
   "metadata": {},
   "outputs": [],
   "source": [
    "data"
   ]
  },
  {
   "cell_type": "markdown",
   "id": "ef02ce10",
   "metadata": {},
   "source": [
    "# Question 1"
   ]
  },
  {
   "cell_type": "code",
   "execution_count": null,
   "id": "49837201",
   "metadata": {},
   "outputs": [],
   "source": [
    "X = data\n",
    "\n",
    "print(type(X))"
   ]
  },
  {
   "cell_type": "code",
   "execution_count": null,
   "id": "1465d352",
   "metadata": {},
   "outputs": [],
   "source": [
    "target_names = data.index\n",
    "print(type(target_names))\n",
    "print(target_names.shape)"
   ]
  },
  {
   "cell_type": "code",
   "execution_count": null,
   "id": "fca5036e",
   "metadata": {},
   "outputs": [],
   "source": [
    "pca = PCA(n_components=2, whiten=True)\n",
    "pca.fit(X)"
   ]
  },
  {
   "cell_type": "code",
   "execution_count": null,
   "id": "adcaeba0",
   "metadata": {},
   "outputs": [],
   "source": [
    "X_pca = pca.transform(X)"
   ]
  },
  {
   "cell_type": "code",
   "execution_count": null,
   "id": "dde3d1ef",
   "metadata": {},
   "outputs": [],
   "source": [
    "target_ids = range(5)\n",
    "plt.figure(figsize=(5, 5))\n",
    "for i, c in zip(target_ids, 'rgbcmykw'):\n",
    "    plt.scatter(X_pca[:, 0], X_pca[:, 1], c=c)\n",
    "plt.xlabel('PC1')\n",
    "plt.ylabel('PC2')\n",
    "plt.legend()\n",
    "plt.show()"
   ]
  },
  {
   "cell_type": "code",
   "execution_count": null,
   "id": "88d46a3e",
   "metadata": {},
   "outputs": [],
   "source": [
    "print(pca.explained_variance_)\n",
    "print(pca.explained_variance_ratio_)\n",
    "print(pca.explained_variance_ratio_.cumsum())"
   ]
  },
  {
   "cell_type": "code",
   "execution_count": null,
   "id": "ac0ad195",
   "metadata": {},
   "outputs": [],
   "source": [
    "mu = np.mean(X, axis=0)\n",
    "C = (X - mu).T @ (X - mu)\n",
    "eigvals, eigvecs = np.linalg.eig(C)\n",
    "print(eigvals)"
   ]
  },
  {
   "cell_type": "markdown",
   "id": "a163f274",
   "metadata": {},
   "source": [
    "# Question 2"
   ]
  },
  {
   "cell_type": "markdown",
   "id": "7312ebe0",
   "metadata": {},
   "source": [
    "# "
   ]
  },
  {
   "cell_type": "code",
   "execution_count": null,
   "id": "6973a2e4",
   "metadata": {},
   "outputs": [],
   "source": [
    "X_embedded = TSNE(n_components=2, perplexity = 5).fit_transform(X)\n",
    "X_embedded.shape"
   ]
  },
  {
   "cell_type": "code",
   "execution_count": null,
   "id": "f4c944d8",
   "metadata": {},
   "outputs": [],
   "source": [
    "target_ids = range(5)\n",
    "plt.figure(figsize=(5, 5))\n",
    "for i, c in zip(target_ids, 'rgbcmykw'):\n",
    "    plt.scatter(X_embedded[:, 0], X_pca[:, 1], c=c)\n",
    "plt.legend()\n",
    "plt.show()"
   ]
  },
  {
   "cell_type": "code",
   "execution_count": null,
   "id": "fee2b703",
   "metadata": {},
   "outputs": [],
   "source": []
  },
  {
   "cell_type": "code",
   "execution_count": null,
   "id": "01138da1",
   "metadata": {},
   "outputs": [],
   "source": []
  },
  {
   "cell_type": "code",
   "execution_count": null,
   "id": "90fb4622",
   "metadata": {},
   "outputs": [],
   "source": [
    "X_embedded = TSNE(n_components=2, perplexity = 20).fit_transform(X)\n",
    "X_embedded.shape"
   ]
  },
  {
   "cell_type": "code",
   "execution_count": null,
   "id": "224b8c68",
   "metadata": {},
   "outputs": [],
   "source": [
    "target_ids = range(5)\n",
    "plt.figure(figsize=(5, 5))\n",
    "for i, c in zip(target_ids, 'rgbcmykw'):\n",
    "    plt.scatter(X_embedded[:, 0], X_pca[:, 1], c=c)\n",
    "plt.legend()\n",
    "plt.show()"
   ]
  },
  {
   "cell_type": "code",
   "execution_count": null,
   "id": "8b4c8221",
   "metadata": {},
   "outputs": [],
   "source": [
    "X_embedded = TSNE(n_components=2, perplexity = 60).fit_transform(X)\n",
    "X_embedded.shape"
   ]
  },
  {
   "cell_type": "code",
   "execution_count": null,
   "id": "bdb84eb4",
   "metadata": {},
   "outputs": [],
   "source": [
    "target_ids = range(5)\n",
    "plt.figure(figsize=(5, 5))\n",
    "for i, c in zip(target_ids, 'rgbcmykw'):\n",
    "    plt.scatter(X_embedded[:, 0], X_pca[:, 1], c=c)\n",
    "plt.legend()\n",
    "plt.show()"
   ]
  },
  {
   "cell_type": "code",
   "execution_count": null,
   "id": "db169529",
   "metadata": {},
   "outputs": [],
   "source": [
    "X_embedded = TSNE(n_components=2, perplexity = 90).fit_transform(X)\n",
    "X_embedded.shape"
   ]
  },
  {
   "cell_type": "code",
   "execution_count": null,
   "id": "e0142fee",
   "metadata": {},
   "outputs": [],
   "source": [
    "target_ids = range(5)\n",
    "plt.figure(figsize=(5, 5))\n",
    "for i, c in zip(target_ids, 'rgbcmykw'):\n",
    "    plt.scatter(X_embedded[:, 0], X_pca[:, 1], c=c)\n",
    "plt.legend()\n",
    "plt.show()"
   ]
  },
  {
   "cell_type": "code",
   "execution_count": null,
   "id": "87f65980",
   "metadata": {},
   "outputs": [],
   "source": [
    "X_embedded = TSNE(n_components=2, perplexity = 120).fit_transform(X)\n",
    "X_embedded.shape"
   ]
  },
  {
   "cell_type": "code",
   "execution_count": null,
   "id": "d5421a7b",
   "metadata": {},
   "outputs": [],
   "source": [
    "target_ids = range(5)\n",
    "plt.figure(figsize=(5, 5))\n",
    "for i, c in zip(target_ids, 'rgbcmykw'):\n",
    "    plt.scatter(X_embedded[:, 0], X_pca[:, 1], c=c)\n",
    "plt.legend()\n",
    "plt.show()"
   ]
  },
  {
   "cell_type": "code",
   "execution_count": null,
   "id": "b7e8f35f",
   "metadata": {},
   "outputs": [],
   "source": [
    "X_embedded = TSNE(n_components=2, perplexity = 150).fit_transform(X)\n",
    "X_embedded.shape"
   ]
  },
  {
   "cell_type": "code",
   "execution_count": null,
   "id": "951f7834",
   "metadata": {},
   "outputs": [],
   "source": [
    "target_ids = range(5)\n",
    "plt.figure(figsize=(5, 5))\n",
    "for i, c in zip(target_ids, 'rgbcmykw'):\n",
    "    plt.scatter(X_embedded[:, 0], X_pca[:, 1], c=c)\n",
    "plt.legend()\n",
    "plt.show()"
   ]
  },
  {
   "cell_type": "code",
   "execution_count": null,
   "id": "fcd16356",
   "metadata": {},
   "outputs": [],
   "source": [
    "kl =[]\n",
    "for i in range(5, 151, 5):\n",
    "    kl.append(TSNE(n_components=2, perplexity = i).kl_divergence_)"
   ]
  },
  {
   "cell_type": "code",
   "execution_count": null,
   "id": "3641f76e",
   "metadata": {},
   "outputs": [],
   "source": [
    "x = np.array(X)\n",
    "print(x)"
   ]
  },
  {
   "cell_type": "code",
   "execution_count": null,
   "id": "6488a05f",
   "metadata": {},
   "outputs": [],
   "source": [
    "x"
   ]
  },
  {
   "cell_type": "markdown",
   "id": "a5726765",
   "metadata": {},
   "source": [
    "# Question 3"
   ]
  },
  {
   "cell_type": "code",
   "execution_count": null,
   "id": "d96c291b",
   "metadata": {},
   "outputs": [],
   "source": [
    "mds = MDS(n_components=2, n_init=100, max_iter = 10000) #Create the mds object\n",
    "#Components: Looking for a 2D solution, n_init: Number of runs with random initial starting positions, max_iter: Max number of iterations per run, dissimilarity: We already did it, from out distance matrix, \n",
    "mdsSolution = mds.fit_transform(X) #Actually run the mds"
   ]
  },
  {
   "cell_type": "code",
   "execution_count": null,
   "id": "dd30bc2b",
   "metadata": {},
   "outputs": [],
   "source": [
    "plt.scatter(mdsSolution[:,0], mdsSolution[:,1], color='purple') #Making the plot, first 2 dimensions\n",
    "\n",
    "\n",
    "plt.xlabel('MDS axis 1')\n",
    "plt.ylabel('MDS axis 2')\n",
    "plt.show()\n",
    "\n",
    "print(mds.stress_) #How low could we get the stress? [Un-normalized]"
   ]
  },
  {
   "cell_type": "markdown",
   "id": "66140e93",
   "metadata": {},
   "source": [
    "# Question 4"
   ]
  },
  {
   "cell_type": "code",
   "execution_count": null,
   "id": "3f6239b6",
   "metadata": {},
   "outputs": [],
   "source": [
    "##### Import the packages\n",
    "##### If not present: use !pip install [package_name]\n",
    "from sklearn.datasets import make_blobs, fetch_openml\n",
    "from sklearn.cluster import KMeans\n",
    "import pandas as pd\n",
    "import seaborn as sns\n",
    "from sklearn.metrics import silhouette_samples, silhouette_score\n",
    "from mpl_toolkits.axes_grid1 import ImageGrid\n",
    "from scipy.stats import multivariate_normal as normal # Multivariate Gaussian distributions\n",
    "from sklearn import mixture  # Mixture models such as Gaussian Mixture Models\n",
    "import matplotlib.pyplot as plt\n",
    "import matplotlib.cm as cm\n",
    "import numpy as np\n",
    "import scipy.cluster.hierarchy as sch\n",
    "%matplotlib inline"
   ]
  },
  {
   "cell_type": "code",
   "execution_count": null,
   "id": "e039e833",
   "metadata": {},
   "outputs": [],
   "source": [
    "X = X_embedded"
   ]
  },
  {
   "cell_type": "code",
   "execution_count": null,
   "id": "012383f5",
   "metadata": {},
   "outputs": [],
   "source": [
    "\n"
   ]
  },
  {
   "cell_type": "code",
   "execution_count": null,
   "id": "fa203a80",
   "metadata": {},
   "outputs": [],
   "source": [
    "\n",
    "range_n_clusters = [2, 3, 4, 5, 6]\n",
    "\n",
    "for n_clusters in range_n_clusters:\n",
    "    # Create a subplot with 1 row and 2 columns\n",
    "    fig, (ax1, ax2) = plt.subplots(1, 2)\n",
    "    fig.set_size_inches(18, 7)\n",
    "\n",
    "    # The 1st subplot is the silhouette plot\n",
    "    # The silhouette coefficient can range from -1, 1 but in this example all\n",
    "    # lie within [-0.1, 1]\n",
    "    ax1.set_xlim([-0.1, 1])\n",
    "    # The (n_clusters+1)*10 is for inserting blank space between silhouette\n",
    "    # plots of individual clusters, to demarcate them clearly.\n",
    "    ax1.set_ylim([0, len(X) + (n_clusters + 1) * 10])\n",
    "\n",
    "    # Initialize the clusterer with n_clusters value and a random generator\n",
    "    # seed of 10 for reproducibility.\n",
    "    clusterer = KMeans(n_clusters=n_clusters, random_state=10)\n",
    "    cluster_labels = clusterer.fit_predict(X)\n",
    "\n",
    "    # The silhouette_score gives the average value for all the samples.\n",
    "    # This gives a perspective into the density and separation of the formed\n",
    "    # clusters\n",
    "    silhouette_avg = silhouette_score(X, cluster_labels)\n",
    "    print(\n",
    "        \"For n_clusters =\",\n",
    "        n_clusters,\n",
    "        \"The average silhouette_score is :\",\n",
    "        silhouette_avg,\n",
    "    )\n",
    "\n",
    "    # Compute the silhouette scores for each sample\n",
    "    sample_silhouette_values = silhouette_samples(X, cluster_labels)\n",
    "\n",
    "    y_lower = 10\n",
    "    for i in range(n_clusters):\n",
    "        # Aggregate the silhouette scores for samples belonging to\n",
    "        # cluster i, and sort them\n",
    "        ith_cluster_silhouette_values = sample_silhouette_values[cluster_labels == i]\n",
    "\n",
    "        ith_cluster_silhouette_values.sort()\n",
    "\n",
    "        size_cluster_i = ith_cluster_silhouette_values.shape[0]\n",
    "        y_upper = y_lower + size_cluster_i\n",
    "\n",
    "        color = cm.nipy_spectral(float(i) / n_clusters)\n",
    "        ax1.fill_betweenx(\n",
    "            np.arange(y_lower, y_upper),\n",
    "            0,\n",
    "            ith_cluster_silhouette_values,\n",
    "            facecolor=color,\n",
    "            edgecolor=color,\n",
    "            alpha=0.7,\n",
    "        )\n",
    "\n",
    "        # Label the silhouette plots with their cluster numbers at the middle\n",
    "        ax1.text(-0.05, y_lower + 0.5 * size_cluster_i, str(i))\n",
    "\n",
    "        # Compute the new y_lower for next plot\n",
    "        y_lower = y_upper + 10  # 10 for the 0 samples\n",
    "\n",
    "    ax1.set_title(\"The silhouette plot for the various clusters.\")\n",
    "    ax1.set_xlabel(\"The silhouette coefficient values\")\n",
    "    ax1.set_ylabel(\"Cluster label\")\n",
    "\n",
    "    # The vertical line for average silhouette score of all the values\n",
    "    ax1.axvline(x=silhouette_avg, color=\"red\", linestyle=\"--\")\n",
    "\n",
    "    ax1.set_yticks([])  # Clear the yaxis labels / ticks\n",
    "    ax1.set_xticks([-0.1, 0, 0.2, 0.4, 0.6, 0.8, 1])\n",
    "\n",
    "    # 2nd Plot showing the actual clusters formed\n",
    "    colors = cm.nipy_spectral(cluster_labels.astype(float) / n_clusters)\n",
    "    ax2.scatter(\n",
    "        X[:, 0], X[:, 1], marker=\".\", s=30, lw=0, alpha=0.7, c=colors, edgecolor=\"k\"\n",
    "    )\n",
    "\n",
    "    # Labeling the clusters\n",
    "    centers = clusterer.cluster_centers_\n",
    "    # Draw white circles at cluster centers\n",
    "    ax2.scatter(\n",
    "        centers[:, 0],\n",
    "        centers[:, 1],\n",
    "        marker=\"o\",\n",
    "        c=\"white\",\n",
    "        alpha=1,\n",
    "        s=200,\n",
    "        edgecolor=\"k\",\n",
    "    )\n",
    "\n",
    "    for i, c in enumerate(centers):\n",
    "        ax2.scatter(c[0], c[1], marker=\"$%d$\" % i, alpha=1, s=50, edgecolor=\"k\")\n",
    "\n",
    "    ax2.set_title(\"The visualization of the clustered data.\")\n",
    "    ax2.set_xlabel(\"Feature space for the 1st feature\")\n",
    "    ax2.set_ylabel(\"Feature space for the 2nd feature\")\n",
    "\n",
    "    plt.suptitle(\n",
    "        \"Silhouette analysis for KMeans clustering on sample data with n_clusters = %d\"\n",
    "        % n_clusters,\n",
    "        fontsize=14,\n",
    "        fontweight=\"bold\",\n",
    "    )\n",
    "\n",
    "plt.show()"
   ]
  },
  {
   "cell_type": "code",
   "execution_count": null,
   "id": "9febefdf",
   "metadata": {},
   "outputs": [],
   "source": []
  },
  {
   "cell_type": "code",
   "execution_count": null,
   "id": "2ac49d78",
   "metadata": {},
   "outputs": [],
   "source": []
  },
  {
   "cell_type": "markdown",
   "id": "6b5a7dce",
   "metadata": {},
   "source": [
    "# Question 5"
   ]
  },
  {
   "cell_type": "code",
   "execution_count": null,
   "id": "28f9ed1f",
   "metadata": {},
   "outputs": [],
   "source": [
    "import numpy as np\n",
    "\n",
    "from sklearn.cluster import DBSCAN\n",
    "from sklearn import metrics\n",
    "from sklearn.datasets import make_blobs\n",
    "from sklearn.preprocessing import StandardScaler"
   ]
  },
  {
   "cell_type": "code",
   "execution_count": null,
   "id": "3253b973",
   "metadata": {},
   "outputs": [],
   "source": [
    "db = DBSCAN(eps=0.09, min_samples=10).fit(X)\n",
    "core_samples_mask = np.zeros_like(db.labels_, dtype=bool)\n",
    "core_samples_mask[db.core_sample_indices_] = True\n",
    "labels = db.labels_\n",
    "\n",
    "# Number of clusters in labels, ignoring noise if present.\n",
    "n_clusters_ = len(set(labels)) - (1 if -1 in labels else 0)\n",
    "n_noise_ = list(labels).count(-1)\n",
    "\n",
    "print(\"Estimated number of clusters: %d\" % n_clusters_)\n",
    "print(\"Estimated number of noise points: %d\" % n_noise_)\n",
    "print(\"Silhouette Coefficient: %0.3f\" % metrics.silhouette_score(X, labels))"
   ]
  },
  {
   "cell_type": "code",
   "execution_count": null,
   "id": "fdd9359e",
   "metadata": {},
   "outputs": [],
   "source": [
    "import matplotlib.pyplot as plt\n",
    "\n",
    "# Black removed and is used for noise instead.\n",
    "unique_labels = set(labels)\n",
    "colors = [plt.cm.Spectral(each) for each in np.linspace(0, 1, len(unique_labels))]\n",
    "for k, col in zip(unique_labels, colors):\n",
    "    if k == -1:\n",
    "        # Black used for noise.\n",
    "        col = [0, 0, 0, 1]\n",
    "\n",
    "    class_member_mask = labels == k\n",
    "\n",
    "    xy = X[class_member_mask & core_samples_mask]\n",
    "    plt.plot(\n",
    "        xy[:, 0],\n",
    "        xy[:, 1],\n",
    "        \"o\",\n",
    "        markerfacecolor=tuple(col),\n",
    "        markeredgecolor=\"k\",\n",
    "        markersize=14,\n",
    "    )\n",
    "\n",
    "    xy = X[class_member_mask & ~core_samples_mask]\n",
    "    plt.plot(\n",
    "        xy[:, 0],\n",
    "        xy[:, 1],\n",
    "        \"o\",\n",
    "        markerfacecolor=tuple(col),\n",
    "        markeredgecolor=\"k\",\n",
    "        markersize=6,\n",
    "    )\n",
    "\n",
    "plt.title(\"Estimated number of clusters: %d\" % n_clusters_)\n",
    "plt.show()"
   ]
  },
  {
   "cell_type": "code",
   "execution_count": null,
   "id": "13836713",
   "metadata": {},
   "outputs": [],
   "source": []
  },
  {
   "cell_type": "code",
   "execution_count": null,
   "id": "e5fff380",
   "metadata": {},
   "outputs": [],
   "source": []
  },
  {
   "cell_type": "code",
   "execution_count": null,
   "id": "1514909e",
   "metadata": {},
   "outputs": [],
   "source": []
  },
  {
   "cell_type": "code",
   "execution_count": null,
   "id": "95065eb0",
   "metadata": {},
   "outputs": [],
   "source": []
  },
  {
   "cell_type": "code",
   "execution_count": null,
   "id": "5423d9fb",
   "metadata": {},
   "outputs": [],
   "source": []
  }
 ],
 "metadata": {
  "kernelspec": {
   "display_name": "Python 3 (ipykernel)",
   "language": "python",
   "name": "python3"
  },
  "language_info": {
   "codemirror_mode": {
    "name": "ipython",
    "version": 3
   },
   "file_extension": ".py",
   "mimetype": "text/x-python",
   "name": "python",
   "nbconvert_exporter": "python",
   "pygments_lexer": "ipython3",
   "version": "3.9.7"
  }
 },
 "nbformat": 4,
 "nbformat_minor": 5
}
